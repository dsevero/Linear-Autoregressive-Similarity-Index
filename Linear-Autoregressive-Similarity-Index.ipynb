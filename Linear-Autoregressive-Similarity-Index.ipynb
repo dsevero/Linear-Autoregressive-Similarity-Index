{
  "cells": [
    {
      "cell_type": "markdown",
      "metadata": {
        "id": "view-in-github",
        "colab_type": "text"
      },
      "source": [
        "<a href=\"https://colab.research.google.com/github/dsevero/Linear-Autoregressive-Similarity-Index/blob/main/Linear-Autoregressive-Similarity-Index.ipynb\" target=\"_parent\"><img src=\"https://colab.research.google.com/assets/colab-badge.svg\" alt=\"Open In Colab\"/></a>"
      ]
    },
    {
      "cell_type": "markdown",
      "metadata": {
        "id": "0EOHNQBTn_Of"
      },
      "source": [
        "# The Unreasonable Effectiveness of Linear Prediction as a Perceptual Metric\n",
        "\n",
        "- https://github.com/dsevero/Linear-Autoregressive-Similarity-Index\n",
        "- https://arxiv.org/abs/2310.05986\n"
      ]
    },
    {
      "cell_type": "markdown",
      "metadata": {
        "id": "X4mixvXKvtjz"
      },
      "source": [
        "# Setup (run this first)"
      ]
    },
    {
      "cell_type": "markdown",
      "metadata": {
        "id": "J9R3l_2Hl-sd"
      },
      "source": [
        "## Clone repo"
      ]
    },
    {
      "cell_type": "code",
      "execution_count": null,
      "metadata": {
        "colab": {
          "base_uri": "https://localhost:8080/"
        },
        "id": "q6GEXT7-kwmy",
        "outputId": "1eb04e59-c506-442a-e9d6-b3738ae8bc75"
      },
      "outputs": [
        {
          "name": "stdout",
          "output_type": "stream",
          "text": [
            "Cloning into 'Linear-Autoregressive-Similarity-Index'...\n",
            "remote: Enumerating objects: 88, done.\u001b[K\n",
            "remote: Counting objects: 100% (88/88), done.\u001b[K\n",
            "remote: Compressing objects: 100% (75/75), done.\u001b[K\n",
            "remote: Total 88 (delta 33), reused 41 (delta 12), pack-reused 0\u001b[K\n",
            "Receiving objects: 100% (88/88), 1010.47 KiB | 18.37 MiB/s, done.\n",
            "Resolving deltas: 100% (33/33), done.\n",
            "/workspaces/Linear-Autoregressive-Similarity-Index/Linear-Autoregressive-Similarity-Index\n"
          ]
        }
      ],
      "source": [
        "!git clone https://github.com/dsevero/Linear-Autoregressive-Similarity-Index.git\n",
        "%cd Linear-Autoregressive-Similarity-Index"
      ]
    },
    {
      "cell_type": "markdown",
      "metadata": {
        "id": "om1uXRNMl8mZ"
      },
      "source": [
        "## Install dependencies"
      ]
    },
    {
      "cell_type": "code",
      "execution_count": null,
      "metadata": {
        "colab": {
          "base_uri": "https://localhost:8080/"
        },
        "id": "dc8Jv_q6lKTM",
        "outputId": "4168b67f-ba28-43c3-e665-1887f62078b2"
      },
      "outputs": [
        {
          "name": "stdout",
          "output_type": "stream",
          "text": [
            "Requirement already satisfied: pip in /usr/local/python/3.10.8/lib/python3.10/site-packages (23.2.1)\n",
            "Looking in links: https://storage.googleapis.com/jax-releases/jax_cuda_releases.html\n",
            "Requirement already satisfied: jax[cuda] in /usr/local/python/3.10.8/lib/python3.10/site-packages (0.4.17)\n",
            "Requirement already satisfied: ml-dtypes>=0.2.0 in /usr/local/python/3.10.8/lib/python3.10/site-packages (from jax[cuda]) (0.3.1)\n",
            "Requirement already satisfied: numpy>=1.22 in /home/codespace/.local/lib/python3.10/site-packages (from jax[cuda]) (1.26.0)\n",
            "Requirement already satisfied: opt-einsum in /usr/local/python/3.10.8/lib/python3.10/site-packages (from jax[cuda]) (3.3.0)\n",
            "Requirement already satisfied: scipy>=1.7 in /home/codespace/.local/lib/python3.10/site-packages (from jax[cuda]) (1.11.3)\n",
            "Requirement already satisfied: jaxlib==0.4.17+cuda11.cudnn86 in /usr/local/python/3.10.8/lib/python3.10/site-packages (from jax[cuda]) (0.4.17+cuda11.cudnn86)\n",
            "Obtaining file:///workspaces/Linear-Autoregressive-Similarity-Index/Linear-Autoregressive-Similarity-Index\n",
            "  Preparing metadata (setup.py) ... \u001b[?25ldone\n",
            "\u001b[?25hInstalling collected packages: lasi\n",
            "  Running setup.py develop for lasi\n",
            "Successfully installed lasi-0.0.0\n"
          ]
        }
      ],
      "source": [
        "!./install_dependencies.sh"
      ]
    },
    {
      "cell_type": "markdown",
      "metadata": {
        "id": "rwJfPLKHhl12"
      },
      "source": [
        "# How to use LASI in your own code"
      ]
    },
    {
      "cell_type": "code",
      "execution_count": 3,
      "metadata": {
        "colab": {
          "base_uri": "https://localhost:8080/"
        },
        "id": "BBQeYe0thiYh",
        "outputId": "bf422029-65f1-4f99-f454-b9bb855cbffd"
      },
      "outputs": [
        {
          "metadata": {
            "tags": null
          },
          "name": "stdout",
          "output_type": "stream",
          "text": [
            "d(img_megg, img_dark_megg) = 1.369293212890625\n",
            "d(ref, p0) = 1.369293212890625\n",
            "d(ref, p1) = 1.3496346473693848\n"
          ]
        }
      ],
      "source": [
        "from PIL import Image\n",
        "from lasi import LASI\n",
        "import jax\n",
        "import jax.numpy as jnp\n",
        "\n",
        "# Load images.\n",
        "img_megg = jnp.array(Image.open('assets/megg.png').convert('RGB'))\n",
        "img_dark_megg = jnp.array(Image.open('assets/dark-megg.png').convert('RGB'))\n",
        "assert img_dark_megg.shape == img_megg.shape\n",
        "\n",
        "# Compute the distance between img_megg and img_dark_megg.\n",
        "lasi = LASI(img_megg.shape, neighborhood_size=10)\n",
        "distance = jax.jit(lasi.compute_distance)(img_megg, img_dark_megg)\n",
        "print(f'd(img_megg, img_dark_megg) = {distance}')\n",
        "\n",
        "# Efficiently compute the distance between multiple images relative to a reference (img_megg).\n",
        "# This function jits internally.\n",
        "img_megg_offset = jnp.clip(img_megg + 20, 0 ,255)\n",
        "distances = lasi.compute_distance_multiple(\n",
        "    ref=img_megg, p0=img_dark_megg, p1=img_megg_offset)\n",
        "print(f\"d(ref, p0) = {distances['p0']}\")\n",
        "print(f\"d(ref, p1) = {distances['p1']}\")"
      ]
    }
  ],
  "metadata": {
    "colab": {
      "collapsed_sections": [
        "J9R3l_2Hl-sd",
        "om1uXRNMl8mZ",
        "d_3KRflYl56-"
      ],
      "provenance": [],
      "include_colab_link": true
    },
    "kernelspec": {
      "display_name": "Python 3",
      "name": "python3"
    },
    "language_info": {
      "codemirror_mode": {
        "name": "ipython",
        "version": 3
      },
      "file_extension": ".py",
      "mimetype": "text/x-python",
      "name": "python",
      "nbconvert_exporter": "python",
      "pygments_lexer": "ipython3",
      "version": "3.10.8"
    }
  },
  "nbformat": 4,
  "nbformat_minor": 0
}